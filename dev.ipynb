{
 "cells": [
  {
   "cell_type": "code",
   "execution_count": 212,
   "metadata": {},
   "outputs": [],
   "source": [
    "import pandas as pd\n",
    "from datetime import datetime, timedelta\n",
    "import calendar, datetime\n",
    "import geopandas as gpd\n",
    "import matplotlib.pyplot as plt"
   ]
  },
  {
   "cell_type": "code",
   "execution_count": 195,
   "metadata": {},
   "outputs": [],
   "source": [
    "table = pd.read_csv('table11.csv', header=None)\n",
    "dateList = []\n",
    "for date in table[0]:\n",
    "    # print (date)\n",
    "    date = datetime.strptime(date, \"%m/%d/%Y\")\n",
    "    dateList.append(date)"
   ]
  },
  {
   "cell_type": "code",
   "execution_count": 196,
   "metadata": {},
   "outputs": [],
   "source": [
    "\n",
    "startDateList = []\n",
    "endDateList = []\n",
    "for date in dateList:\n",
    "    startDateList.append(date - timedelta(days = 7))\n",
    "    endDateList.append(date + timedelta(days = 7))\n",
    "zipList = list(zip(dateList, startDateList, endDateList))"
   ]
  },
  {
   "cell_type": "code",
   "execution_count": 197,
   "metadata": {},
   "outputs": [],
   "source": [
    "dateTable = pd.DataFrame(zipList, columns=['Event', 'StartDate', 'EndDate'])"
   ]
  },
  {
   "cell_type": "code",
   "execution_count": 198,
   "metadata": {},
   "outputs": [],
   "source": [
    "# Data csv pulled from:\n",
    "# https://mesonet.agron.iastate.edu/request/download.phtml?network=LA_ASOS\n",
    "\n",
    "data_df = pd.read_csv(r\"Z:\\temp\\asos.txt\")\n"
   ]
  },
  {
   "cell_type": "code",
   "execution_count": 199,
   "metadata": {},
   "outputs": [
    {
     "data": {
      "text/html": [
       "<div>\n",
       "<style scoped>\n",
       "    .dataframe tbody tr th:only-of-type {\n",
       "        vertical-align: middle;\n",
       "    }\n",
       "\n",
       "    .dataframe tbody tr th {\n",
       "        vertical-align: top;\n",
       "    }\n",
       "\n",
       "    .dataframe thead th {\n",
       "        text-align: right;\n",
       "    }\n",
       "</style>\n",
       "<table border=\"1\" class=\"dataframe\">\n",
       "  <thead>\n",
       "    <tr style=\"text-align: right;\">\n",
       "      <th></th>\n",
       "      <th>station</th>\n",
       "      <th>valid</th>\n",
       "      <th>lon</th>\n",
       "      <th>lat</th>\n",
       "      <th>elevation</th>\n",
       "      <th>sped</th>\n",
       "    </tr>\n",
       "  </thead>\n",
       "  <tbody>\n",
       "    <tr>\n",
       "      <th>0</th>\n",
       "      <td>NEW</td>\n",
       "      <td>1942-09-01 06:00</td>\n",
       "      <td>-90.0282</td>\n",
       "      <td>30.0424</td>\n",
       "      <td>3.0</td>\n",
       "      <td>5.75</td>\n",
       "    </tr>\n",
       "    <tr>\n",
       "      <th>1</th>\n",
       "      <td>NEW</td>\n",
       "      <td>1942-09-01 07:00</td>\n",
       "      <td>-90.0282</td>\n",
       "      <td>30.0424</td>\n",
       "      <td>3.0</td>\n",
       "      <td>4.60</td>\n",
       "    </tr>\n",
       "    <tr>\n",
       "      <th>2</th>\n",
       "      <td>NEW</td>\n",
       "      <td>1942-09-01 08:00</td>\n",
       "      <td>-90.0282</td>\n",
       "      <td>30.0424</td>\n",
       "      <td>3.0</td>\n",
       "      <td>3.45</td>\n",
       "    </tr>\n",
       "  </tbody>\n",
       "</table>\n",
       "</div>"
      ],
      "text/plain": [
       "  station             valid      lon      lat  elevation  sped\n",
       "0     NEW  1942-09-01 06:00 -90.0282  30.0424        3.0  5.75\n",
       "1     NEW  1942-09-01 07:00 -90.0282  30.0424        3.0  4.60\n",
       "2     NEW  1942-09-01 08:00 -90.0282  30.0424        3.0  3.45"
      ]
     },
     "execution_count": 199,
     "metadata": {},
     "output_type": "execute_result"
    }
   ],
   "source": [
    "data_df.head(3)"
   ]
  },
  {
   "cell_type": "code",
   "execution_count": 200,
   "metadata": {},
   "outputs": [],
   "source": [
    "gageList = data_df.station.unique()"
   ]
  },
  {
   "cell_type": "code",
   "execution_count": 255,
   "metadata": {},
   "outputs": [],
   "source": [
    "# Get first and last row of each gage to capture geometry and date range\n",
    "gdf_columns = ['gage', 'lat', 'lon', 'startDate', 'endDate']\n",
    "latList = []\n",
    "lonList = []\n",
    "sList = []\n",
    "eList = []\n",
    "# gdf_dict = {}\n",
    "for gage in gageList:\n",
    "    # print (gage)\n",
    "    gage_df = data_df[data_df['station'] == gage]\n",
    "    startDate_por = gage_df['valid'].iloc[0]\n",
    "    endDate_por = gage_df['valid'].iloc[-1]\n",
    "    lat = gage_df['lat'].iloc[0]\n",
    "    lon = gage_df['lon'].iloc[0]\n",
    "    sList.append(startDate_por)\n",
    "    eList.append(endDate_por)\n",
    "    latList.append(lat)\n",
    "    lonList.append(lon)"
   ]
  },
  {
   "cell_type": "code",
   "execution_count": 256,
   "metadata": {},
   "outputs": [],
   "source": [
    "# Make a map of the gage Locations\n",
    "# Create geodataframe\n",
    "df = pd.DataFrame(\n",
    "    {'gage': gageList,\n",
    "     'startDate': sList,\n",
    "     'endDate': eList,\n",
    "     'Latitude': latList,\n",
    "     'Longitude': lonList})\n",
    "gdf = gpd.GeoDataFrame(\n",
    "    df, geometry=gpd.points_from_xy(df.Longitude, df.Latitude))"
   ]
  },
  {
   "cell_type": "code",
   "execution_count": 257,
   "metadata": {},
   "outputs": [
    {
     "data": {
      "image/png": "[encoded data removed]",
      "text/plain": [
       "<Figure size 432x288 with 1 Axes>"
      ]
     },
     "metadata": {
      "needs_background": "light"
     },
     "output_type": "display_data"
    }
   ],
   "source": [
    "\n",
    "la = gpd.read_file(\"Z:\\GIS\\Louisiana.shp\")\n",
    "\n",
    "# We restrict to South America.\n",
    "ax = la.plot(\n",
    "    color='white', edgecolor='black', )\n",
    "\n",
    "# We can now plot our ``GeoDataFrame``.\n",
    "gdf.plot(ax=ax, color='red')\n",
    "# ax.annotate(gage)\n",
    "\n",
    "plt.show()"
   ]
  },
  {
   "cell_type": "code",
   "execution_count": 258,
   "metadata": {},
   "outputs": [
    {
     "name": "stderr",
     "output_type": "stream",
     "text": [
      "c:\\Tools\\Anaconda3\\envs\\XrRio\\lib\\site-packages\\geopandas\\io\\file.py:362: FutureWarning: pandas.Int64Index is deprecated and will be removed from pandas in a future version. Use pandas.Index with the appropriate dtype instead.\n",
      "  pd.Int64Index,\n",
      "c:\\Tools\\Anaconda3\\envs\\XrRio\\lib\\site-packages\\geopandas\\io\\file.py:362: FutureWarning: pandas.Int64Index is deprecated and will be removed from pandas in a future version. Use pandas.Index with the appropriate dtype instead.\n",
      "  pd.Int64Index,\n"
     ]
    }
   ],
   "source": [
    "#gdf to shp\n",
    "gdf.to_file('gages.shp')\n",
    "gdf.to_file('gages.geojson', driver=\"GeoJSON\")"
   ]
  },
  {
   "cell_type": "code",
   "execution_count": 204,
   "metadata": {},
   "outputs": [
    {
     "name": "stdout",
     "output_type": "stream",
     "text": [
      "<class 'pandas.core.frame.DataFrame'>\n",
      "RangeIndex: 4757479 entries, 0 to 4757478\n",
      "Data columns (total 7 columns):\n",
      " #   Column     Dtype         \n",
      "---  ------     -----         \n",
      " 0   station    object        \n",
      " 1   valid      object        \n",
      " 2   lon        float64       \n",
      " 3   lat        float64       \n",
      " 4   elevation  float64       \n",
      " 5   sped       float64       \n",
      " 6   Date       datetime64[ns]\n",
      "dtypes: datetime64[ns](1), float64(4), object(2)\n",
      "memory usage: 254.1+ MB\n"
     ]
    }
   ],
   "source": [
    "# convert the 'Date' column to datetime format\n",
    "data_df['Date']= pd.to_datetime(data_df['valid'])\n",
    " \n",
    "# Check the format of 'Date' column\n",
    "data_df.info()"
   ]
  },
  {
   "cell_type": "code",
   "execution_count": 260,
   "metadata": {},
   "outputs": [],
   "source": [
    "resultsTableLength = len(dateList)\n",
    "appended_data_por = []\n",
    "# For each gage and each event get Mean Wind Speed Value.\n",
    "for gage in gageList:\n",
    "    # Filter data by gage\n",
    "    gage_df = data_df[data_df['station'] == gage]\n",
    "    # Filter data seasonally by each event (each event is in dateTable)\n",
    "    for i, row in dateTable.T.iteritems():\n",
    "        # print (date)\n",
    "        startDate = row['StartDate']\n",
    "        endDate = row['EndDate']\n",
    "        \n",
    "        \n",
    "        # get days in month\n",
    "        daysInStartMonth= calendar.monthrange(startDate.year, startDate.month)[1]\n",
    "        daysInEndMonth= calendar.monthrange(endDate.year, endDate.month)[1]\n",
    "\n",
    "        # Filter dataframe from to only contain data from startDate to endDate\n",
    "        startMonth_DayRange = gage_df[gage_df['Date'].dt.month == startDate.month]\n",
    "        startMonth_DayRange = startMonth_DayRange[startMonth_DayRange['Date'].dt.day >= startDate.day]\n",
    "        endMonth_DayRange = gage_df[gage_df['Date'].dt.month == endDate.month]\n",
    "        endMonth_DayRange = endMonth_DayRange[endMonth_DayRange['Date'].dt.day <= endDate.day]\n",
    "        filtered_df = pd.concat([startMonth_DayRange, endMonth_DayRange])\n",
    "        \n",
    "        # Get Period of Record mean for each event\n",
    "        mean = round(filtered_df.sped.mean(),2)\n",
    "\n",
    "        # Dictionary format to hold PoR Summary Results\n",
    "        result_data_por = {\n",
    "            'Gage': gage,\n",
    "            'PoR Mean Wind Speed (mph)': mean,\n",
    "            'Event': row['Event'],\n",
    "            'Event Start Date': f'{startDate.month}-{startDate.day}',\n",
    "            'Event End Date': f'{endDate.month}-{endDate.day}'\n",
    "            }\n",
    "        appended_data_por.append(result_data_por)        "
   ]
  },
  {
   "cell_type": "code",
   "execution_count": 252,
   "metadata": {},
   "outputs": [],
   "source": [
    "results_df = pd.DataFrame.from_dict(appended_data_por) \n",
    "results_df.to_csv (r'results_por.csv', index = False, header=True)"
   ]
  },
  {
   "cell_type": "code",
   "execution_count": null,
   "metadata": {},
   "outputs": [],
   "source": []
  },
  {
   "cell_type": "code",
   "execution_count": 177,
   "metadata": {},
   "outputs": [],
   "source": [
    "# get day range\n",
    "startDate.day\n",
    "startMonth_DayRange = gage_df[\n",
    "    (gage_df['Date'].dt.month == startDate.month) \n",
    "    & (gage_df['Date'].dt.day >= startDate.day) \n",
    "    & (gage_df['Date'].dt.day <= daysInStartMonth)\n",
    "]\n",
    "endMonth_DayRange = gage_df['Date'].dt.month.eq(endDate.month)&gage_df['Date'].dt.day.between(endDate.day,daysInEndMonth)"
   ]
  }
 ],
 "metadata": {
  "kernelspec": {
   "display_name": "Python 3.10.4 ('XrRio')",
   "language": "python",
   "name": "python3"
  },
  "language_info": {
   "codemirror_mode": {
    "name": "ipython",
    "version": 3
   },
   "file_extension": ".py",
   "mimetype": "text/x-python",
   "name": "python",
   "nbconvert_exporter": "python",
   "pygments_lexer": "ipython3",
   "version": "3.10.4"
  },
  "orig_nbformat": 4,
  "vscode": {
   "interpreter": {
    "hash": "19128478a99f735768fcf3941ea77b79e36d4710fad035ad28d4b89a4e1d564e"
   }
  }
 },
 "nbformat": 4,
 "nbformat_minor": 2
}
