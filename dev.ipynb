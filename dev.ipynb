{
 "cells": [
  {
   "cell_type": "code",
   "execution_count": 24,
   "metadata": {},
   "outputs": [],
   "source": [
    "import pandas as pd\n",
    "from datetime import datetime, timedelta"
   ]
  },
  {
   "cell_type": "code",
   "execution_count": 23,
   "metadata": {},
   "outputs": [],
   "source": [
    "table = pd.read_csv('table11.csv', header=None)\n",
    "dateList = []\n",
    "for date in table[0]:\n",
    "    # print (date)\n",
    "    date = datetime.strptime(date, \"%m/%d/%Y\")\n",
    "    dateList.append(date)"
   ]
  },
  {
   "cell_type": "code",
   "execution_count": 33,
   "metadata": {},
   "outputs": [],
   "source": [
    "\n",
    "startDateList = []\n",
    "endDateList = []\n",
    "for date in dateList:\n",
    "    startDateList.append(date - timedelta(days = 7))\n",
    "    endDateList.append(date + timedelta(days = 7))\n",
    "zipList = list(zip(dateList, startDateList, endDateList))"
   ]
  },
  {
   "cell_type": "code",
   "execution_count": 34,
   "metadata": {},
   "outputs": [],
   "source": [
    "dateTable = pd.DataFrame(zipList, columns=['Event', 'StartDate', 'EndDate'])"
   ]
  }
 ],
 "metadata": {
  "kernelspec": {
   "display_name": "Python 3.10.4 ('XrRio')",
   "language": "python",
   "name": "python3"
  },
  "language_info": {
   "codemirror_mode": {
    "name": "ipython",
    "version": 3
   },
   "file_extension": ".py",
   "mimetype": "text/x-python",
   "name": "python",
   "nbconvert_exporter": "python",
   "pygments_lexer": "ipython3",
   "version": "3.10.4"
  },
  "orig_nbformat": 4,
  "vscode": {
   "interpreter": {
    "hash": "19128478a99f735768fcf3941ea77b79e36d4710fad035ad28d4b89a4e1d564e"
   }
  }
 },
 "nbformat": 4,
 "nbformat_minor": 2
}
